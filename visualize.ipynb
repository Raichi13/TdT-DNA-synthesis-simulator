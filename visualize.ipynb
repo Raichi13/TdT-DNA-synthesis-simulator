{
 "cells": [
  {
   "cell_type": "code",
   "execution_count": null,
   "metadata": {},
   "outputs": [],
   "source": [
    "!pip install numpy\n",
    "!pip install matplotlib\n",
    "!pip install pandas"
   ]
  },
  {
   "cell_type": "code",
   "execution_count": 8,
   "metadata": {},
   "outputs": [],
   "source": [
    "from bitarray import bitarray\n",
    "import numpy as np\n",
    "import itertools\n",
    "import matplotlib.pyplot as plt\n",
    "import random\n",
    "import pandas as pd\n",
    "import json\n",
    "import time, datetime\n",
    "import os\n",
    "import glob"
   ]
  },
  {
   "cell_type": "code",
   "execution_count": 89,
   "metadata": {},
   "outputs": [],
   "source": [
    "def get_values(data : list) :\n",
    "    address_errors_with_catfish = []\n",
    "    print(type(data))\n",
    "    print(np.min(list(data['address_error_catfish_count'])))\n",
    "    for i,v in enumerate(list(data['address_error_catfish_count'])) :\n",
    "        address_errors_with_catfish.append(v + list(data['address_error_count'])[i])\n",
    "    \n",
    "    \n",
    "    return address_errors_with_catfish"
   ]
  },
  {
   "cell_type": "code",
   "execution_count": 99,
   "metadata": {},
   "outputs": [
    {
     "name": "stdout",
     "output_type": "stream",
     "text": [
      "48672/4096000\n"
     ]
    }
   ],
   "source": [
    "dump_file_directory = './dump_datas/*'\n",
    "dump_files = glob.glob(dump_file_directory)\n",
    "parsed_dump_files = []\n",
    "for v in dump_files :\n",
    "    with open(v) as f :\n",
    "        parsed_dump_files.append(json.load(f))\n",
    "\n",
    "# print(parsed_dump_files)\n",
    "\n",
    "df = pd.DataFrame(parsed_dump_files)\n",
    "fed = filter(lambda x : x['deletion_numerator'] == 200 and x['reaction_cycle'] == 4 ,parsed_dump_files)\n",
    "data = list(fed)[0]\n",
    "res = data['results']\n",
    "input_size = data['input_file_size']\n",
    "bytes_per_oligo = data['bytes_per_oligo']\n",
    "reaction_cycle = data['reaction_cycle']\n",
    "number_of_simulations = data['number_of_simulations']\n",
    "\n",
    "address_errors_with_catfish = []\n",
    "for i,v in enumerate(list(res['address_error_catfish_count'])) :\n",
    "    address_errors_with_catfish.append(v + list(res['address_error_count'])[i])\n",
    "\n",
    "lost_bytes = np.sum(address_errors_with_catfish) * bytes_per_oligo\n",
    "total_bytes = reaction_cycle * input_size * number_of_simulations\n",
    "\n",
    "print(str(lost_bytes) + '/' + str(total_bytes))\n",
    "\n",
    "\n",
    "#print(list(fed)[0]['results']['address_error_count'])\n",
    "# print(df)\n",
    "#q = df.query('deletion_numerator == 1')\n",
    "# print(q)\n",
    "# print(get_values(q['results']))"
   ]
  }
 ],
 "metadata": {
  "kernelspec": {
   "display_name": "Python 3.8.10 64-bit",
   "language": "python",
   "name": "python3"
  },
  "language_info": {
   "codemirror_mode": {
    "name": "ipython",
    "version": 3
   },
   "file_extension": ".py",
   "mimetype": "text/x-python",
   "name": "python",
   "nbconvert_exporter": "python",
   "pygments_lexer": "ipython3",
   "version": "3.8.10"
  },
  "orig_nbformat": 4,
  "vscode": {
   "interpreter": {
    "hash": "916dbcbb3f70747c44a77c7bcd40155683ae19c65e1c03b4aa3499c5328201f1"
   }
  }
 },
 "nbformat": 4,
 "nbformat_minor": 2
}
